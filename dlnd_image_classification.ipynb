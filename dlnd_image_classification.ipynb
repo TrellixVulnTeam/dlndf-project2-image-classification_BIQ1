{
 "cells": [
  {
   "cell_type": "markdown",
   "metadata": {
    "collapsed": true,
    "deletable": true,
    "editable": true
   },
   "source": [
    "# Image Classification\n",
    "In this project, you'll classify images from the [CIFAR-10 dataset](https://www.cs.toronto.edu/~kriz/cifar.html).  The dataset consists of airplanes, dogs, cats, and other objects. You'll preprocess the images, then train a convolutional neural network on all the samples. The images need to be normalized and the labels need to be one-hot encoded.  You'll get to apply what you learned and build a convolutional, max pooling, dropout, and fully connected layers.  At the end, you'll get to see your neural network's predictions on the sample images.\n",
    "## Get the Data\n",
    "Run the following cell to download the [CIFAR-10 dataset for python](https://www.cs.toronto.edu/~kriz/cifar-10-python.tar.gz)."
   ]
  },
  {
   "cell_type": "code",
   "execution_count": 2,
   "metadata": {
    "collapsed": false,
    "deletable": true,
    "editable": true
   },
   "outputs": [
    {
     "name": "stdout",
     "output_type": "stream",
     "text": [
      "All files found!\n"
     ]
    }
   ],
   "source": [
    "\"\"\"\n",
    "DON'T MODIFY ANYTHING IN THIS CELL THAT IS BELOW THIS LINE\n",
    "\"\"\"\n",
    "from urllib.request import urlretrieve\n",
    "from os.path import isfile, isdir\n",
    "from tqdm import tqdm\n",
    "import problem_unittests as tests\n",
    "import tarfile\n",
    "\n",
    "cifar10_dataset_folder_path = 'cifar-10-batches-py'\n",
    "\n",
    "class DLProgress(tqdm):\n",
    "    last_block = 0\n",
    "\n",
    "    def hook(self, block_num=1, block_size=1, total_size=None):\n",
    "        self.total = total_size\n",
    "        self.update((block_num - self.last_block) * block_size)\n",
    "        self.last_block = block_num\n",
    "\n",
    "if not isfile('cifar-10-python.tar.gz'):\n",
    "    with DLProgress(unit='B', unit_scale=True, miniters=1, desc='CIFAR-10 Dataset') as pbar:\n",
    "        urlretrieve(\n",
    "            'https://www.cs.toronto.edu/~kriz/cifar-10-python.tar.gz',\n",
    "            'cifar-10-python.tar.gz',\n",
    "            pbar.hook)\n",
    "\n",
    "if not isdir(cifar10_dataset_folder_path):\n",
    "    with tarfile.open('cifar-10-python.tar.gz') as tar:\n",
    "        tar.extractall()\n",
    "        tar.close()\n",
    "\n",
    "\n",
    "tests.test_folder_path(cifar10_dataset_folder_path)"
   ]
  },
  {
   "cell_type": "markdown",
   "metadata": {
    "deletable": true,
    "editable": true
   },
   "source": [
    "## Explore the Data\n",
    "The dataset is broken into batches to prevent your machine from running out of memory.  The CIFAR-10 dataset consists of 5 batches, named `data_batch_1`, `data_batch_2`, etc.. Each batch contains the labels and images that are one of the following:\n",
    "* airplane\n",
    "* automobile\n",
    "* bird\n",
    "* cat\n",
    "* deer\n",
    "* dog\n",
    "* frog\n",
    "* horse\n",
    "* ship\n",
    "* truck\n",
    "\n",
    "Understanding a dataset is part of making predictions on the data.  Play around with the code cell below by changing the `batch_id` and `sample_id`. The `batch_id` is the id for a batch (1-5). The `sample_id` is the id for a image and label pair in the batch.\n",
    "\n",
    "Ask yourself\n",
    "* \"What are all possible labels?\"\n",
    "* \"What is the range of values for the image data?\"\n",
    "* \"Are the labels in order or random?\"\n",
    "\n",
    "Answers to questions like these will help you preprocess the data and end up with better predictions."
   ]
  },
  {
   "cell_type": "code",
   "execution_count": 3,
   "metadata": {
    "collapsed": false,
    "deletable": true,
    "editable": true
   },
   "outputs": [
    {
     "name": "stdout",
     "output_type": "stream",
     "text": [
      "\n",
      "Stats of batch 1:\n",
      "Samples: 10000\n",
      "Label Counts: {0: 1005, 1: 974, 2: 1032, 3: 1016, 4: 999, 5: 937, 6: 1030, 7: 1001, 8: 1025, 9: 981}\n",
      "First 20 Labels: [6, 9, 9, 4, 1, 1, 2, 7, 8, 3, 4, 7, 7, 2, 9, 9, 9, 3, 2, 6]\n",
      "\n",
      "Example of Image 5:\n",
      "Image - Min Value: 0 Max Value: 252\n",
      "Image - Shape: (32, 32, 3)\n",
      "Label - Label Id: 1 Name: automobile\n"
     ]
    },
    {
     "data": {
      "image/png": "[encoded data removed]",
      "text/plain": [
       "<matplotlib.figure.Figure at 0x2b0f1a27f98>"
      ]
     },
     "metadata": {
      "image/png": {
       "height": 250,
       "width": 253
      }
     },
     "output_type": "display_data"
    }
   ],
   "source": [
    "%matplotlib inline\n",
    "%config InlineBackend.figure_format = 'retina'\n",
    "\n",
    "import helper\n",
    "import numpy as np\n",
    "\n",
    "# Explore the dataset\n",
    "batch_id = 1\n",
    "sample_id = 5\n",
    "helper.display_stats(cifar10_dataset_folder_path, batch_id, sample_id)"
   ]
  },
  {
   "cell_type": "markdown",
   "metadata": {
    "deletable": true,
    "editable": true
   },
   "source": [
    "## Implement Preprocess Functions\n",
    "### Normalize\n",
    "In the cell below, implement the `normalize` function to take in image data, `x`, and return it as a normalized Numpy array. The values should be in the range of 0 to 1, inclusive.  The return object should be the same shape as `x`."
   ]
  },
  {
   "cell_type": "code",
   "execution_count": 4,
   "metadata": {
    "collapsed": false,
    "deletable": true,
    "editable": true
   },
   "outputs": [
    {
     "name": "stdout",
     "output_type": "stream",
     "text": [
      "Tests Passed\n"
     ]
    }
   ],
   "source": [
    "\n",
    "def normalize(x):\n",
    "    \"\"\"\n",
    "    Normalize a list of sample image data in the range of 0 to 1\n",
    "    : x: List of image data.  The image shape is (32, 32, 3)\n",
    "    : return: Numpy array of normalize data\n",
    "    \"\"\"\n",
    "    x_norm = x.reshape(x.size)\n",
    "    \n",
    "    x_max = max(x_norm)\n",
    "    x_min = min(x_norm)\n",
    "    x_range = x_max-x_min\n",
    "    x_norm = (x_norm - x_min)/(x_range)    \n",
    "    \n",
    "    return x_norm.reshape(x.shape)\n",
    "\n",
    "\"\"\"\n",
    "DON'T MODIFY ANYTHING IN THIS CELL THAT IS BELOW THIS LINE\n",
    "\"\"\"\n",
    "tests.test_normalize(normalize)"
   ]
  },
  {
   "cell_type": "markdown",
   "metadata": {
    "deletable": true,
    "editable": true
   },
   "source": [
    "### One-hot encode\n",
    "Just like the previous code cell, you'll be implementing a function for preprocessing.  This time, you'll implement the `one_hot_encode` function. The input, `x`, are a list of labels.  Implement the function to return the list of labels as One-Hot encoded Numpy array.  The possible values for labels are 0 to 9. The one-hot encoding function should return the same encoding for each value between each call to `one_hot_encode`.  Make sure to save the map of encodings outside the function.\n",
    "\n",
    "Hint: Don't reinvent the wheel."
   ]
  },
  {
   "cell_type": "code",
   "execution_count": 5,
   "metadata": {
    "collapsed": false,
    "deletable": true,
    "editable": true
   },
   "outputs": [
    {
     "name": "stdout",
     "output_type": "stream",
     "text": [
      "Tests Passed\n"
     ]
    }
   ],
   "source": [
    "from sklearn.preprocessing import LabelBinarizer\n",
    "\n",
    "lb = LabelBinarizer()\n",
    "lb_initialized = False\n",
    "\n",
    "def one_hot_encode(x):\n",
    "    \"\"\"\n",
    "    One hot encode a list of sample labels. Return a one-hot encoded vector for each label.\n",
    "    : x: List of sample Labels\n",
    "    : return: Numpy array of one-hot encoded labels\n",
    "    \"\"\"\n",
    "    global lb_initialized\n",
    "    if(lb_initialized):\n",
    "        pass\n",
    "    else:    \n",
    "        lb.fit(x)\n",
    "        lb_initialized = True\n",
    "    \n",
    "    return lb.transform(x)\n",
    "\n",
    "\n",
    "\"\"\"\n",
    "DON'T MODIFY ANYTHING IN THIS CELL THAT IS BELOW THIS LINE\n",
    "\"\"\"\n",
    "tests.test_one_hot_encode(one_hot_encode)"
   ]
  },
  {
   "cell_type": "markdown",
   "metadata": {
    "deletable": true,
    "editable": true
   },
   "source": [
    "### Randomize Data\n",
    "As you saw from exploring the data above, the order of the samples are randomized.  It doesn't hurt to randomize it again, but you don't need to for this dataset.\n",
    "\n",
    "-> I randomize the data on each epoch, so the batches are never equal."
   ]
  },
  {
   "cell_type": "markdown",
   "metadata": {
    "deletable": true,
    "editable": true
   },
   "source": [
    "## Preprocess all the data and save it\n",
    "Running the code cell below will preprocess all the CIFAR-10 data and save it to file. The code below also uses 10% of the training data for validation."
   ]
  },
  {
   "cell_type": "code",
   "execution_count": 6,
   "metadata": {
    "collapsed": false,
    "deletable": true,
    "editable": true
   },
   "outputs": [],
   "source": [
    "\"\"\"\n",
    "DON'T MODIFY ANYTHING IN THIS CELL\n",
    "\"\"\"\n",
    "# Preprocess Training, Validation, and Testing Data\n",
    "helper.preprocess_and_save_data(cifar10_dataset_folder_path, normalize, one_hot_encode)"
   ]
  },
  {
   "cell_type": "markdown",
   "metadata": {
    "deletable": true,
    "editable": true
   },
   "source": [
    "# Check Point\n",
    "This is your first checkpoint.  If you ever decide to come back to this notebook or have to restart the notebook, you can start from here.  The preprocessed data has been saved to disk."
   ]
  },
  {
   "cell_type": "code",
   "execution_count": 7,
   "metadata": {
    "collapsed": false,
    "deletable": true,
    "editable": true
   },
   "outputs": [
    {
     "name": "stdout",
     "output_type": "stream",
     "text": [
      "Data Loaded\n"
     ]
    }
   ],
   "source": [
    "\"\"\"\n",
    "DON'T MODIFY ANYTHING IN THIS CELL\n",
    "\"\"\"\n",
    "import pickle\n",
    "import problem_unittests as tests\n",
    "import helper\n",
    "\n",
    "# Load the Preprocessed Validation data\n",
    "valid_features, valid_labels = pickle.load(open('.\\cifar-10-batches-py\\preprocess_validation.p', mode='rb'))\n",
    "print('Data Loaded')"
   ]
  },
  {
   "cell_type": "markdown",
   "metadata": {
    "deletable": true,
    "editable": true
   },
   "source": [
    "## Build the network\n",
    "For the neural network, you'll build each layer into a function.  Most of the code you've seen has been outside of functions. To test your code more thoroughly, we require that you put each layer in a function.  This allows us to give you better feedback and test for simple mistakes using our unittests before you submit your project.\n",
    "\n",
    ">**Note:** If you're finding it hard to dedicate enough time for this course each week, we've provided a small shortcut to this part of the project. In the next couple of problems, you'll have the option to use classes from the [TensorFlow Layers](https://www.tensorflow.org/api_docs/python/tf/layers) or [TensorFlow Layers (contrib)](https://www.tensorflow.org/api_guides/python/contrib.layers) packages to build each layer, except the layers you build in the \"Convolutional and Max Pooling Layer\" section.  TF Layers is similar to Keras's and TFLearn's abstraction to layers, so it's easy to pickup.\n",
    "\n",
    ">However, if you would like to get the most out of this course, try to solve all the problems _without_ using anything from the TF Layers packages. You **can** still use classes from other packages that happen to have the same name as ones you find in TF Layers! For example, instead of using the TF Layers version of the `conv2d` class, [tf.layers.conv2d](https://www.tensorflow.org/api_docs/python/tf/layers/conv2d), you would want to use the TF Neural Network version of `conv2d`, [tf.nn.conv2d](https://www.tensorflow.org/api_docs/python/tf/nn/conv2d). \n",
    "\n",
    "Let's begin!\n",
    "\n",
    "### Input\n",
    "The neural network needs to read the image data, one-hot encoded labels, and dropout keep probability. Implement the following functions\n",
    "* Implement `neural_net_image_input`\n",
    " * Return a [TF Placeholder](https://www.tensorflow.org/api_docs/python/tf/placeholder)\n",
    " * Set the shape using `image_shape` with batch size set to `None`.\n",
    " * Name the TensorFlow placeholder \"x\" using the TensorFlow `name` parameter in the [TF Placeholder](https://www.tensorflow.org/api_docs/python/tf/placeholder).\n",
    "* Implement `neural_net_label_input`\n",
    " * Return a [TF Placeholder](https://www.tensorflow.org/api_docs/python/tf/placeholder)\n",
    " * Set the shape using `n_classes` with batch size set to `None`.\n",
    " * Name the TensorFlow placeholder \"y\" using the TensorFlow `name` parameter in the [TF Placeholder](https://www.tensorflow.org/api_docs/python/tf/placeholder).\n",
    "* Implement `neural_net_keep_prob_input`\n",
    " * Return a [TF Placeholder](https://www.tensorflow.org/api_docs/python/tf/placeholder) for dropout keep probability.\n",
    " * Name the TensorFlow placeholder \"keep_prob\" using the TensorFlow `name` parameter in the [TF Placeholder](https://www.tensorflow.org/api_docs/python/tf/placeholder).\n",
    "\n",
    "These names will be used at the end of the project to load your saved model.\n",
    "\n",
    "Note: `None` for shapes in TensorFlow allow for a dynamic size."
   ]
  },
  {
   "cell_type": "code",
   "execution_count": 8,
   "metadata": {
    "collapsed": false,
    "deletable": true,
    "editable": true
   },
   "outputs": [
    {
     "name": "stdout",
     "output_type": "stream",
     "text": [
      "Image Input Tests Passed.\n",
      "Label Input Tests Passed.\n",
      "Keep Prob Tests Passed.\n"
     ]
    }
   ],
   "source": [
    "import tensorflow as tf\n",
    "\n",
    "def neural_net_image_input( image_shape ):\n",
    "    \n",
    "    image_shape  = list( image_shape )\n",
    "    image_shape.insert(0, None)\n",
    "    x = tf.placeholder(tf.float32, image_shape, name = 'x')\n",
    "    \n",
    "    return x\n",
    "\n",
    "\n",
    "def neural_net_label_input( n_classes ):\n",
    "\n",
    "    y = tf.placeholder(tf.float32, [None, n_classes], name = 'y')\n",
    "    \n",
    "    return y\n",
    "    \n",
    "def neural_net_keep_prob_input():\n",
    "    \n",
    "    return tf.placeholder(tf.float32, name = 'keep_prob')\n",
    "\n",
    "\n",
    "\"\"\"\n",
    "DON'T MODIFY ANYTHING IN THIS CELL THAT IS BELOW THIS LINE\n",
    "\"\"\"\n",
    "tf.reset_default_graph()\n",
    "tests.test_nn_image_inputs(neural_net_image_input)\n",
    "tests.test_nn_label_inputs(neural_net_label_input)\n",
    "tests.test_nn_keep_prob_inputs(neural_net_keep_prob_input)"
   ]
  },
  {
   "cell_type": "markdown",
   "metadata": {
    "deletable": true,
    "editable": true
   },
   "source": [
    "### Convolution and Max Pooling Layer\n",
    "Convolution layers have a lot of success with images. For this code cell, you should implement the function `conv2d_maxpool` to apply convolution then max pooling:\n",
    "* Create the weight and bias using `conv_ksize`, `conv_num_outputs` and the shape of `x_tensor`.\n",
    "* Apply a convolution to `x_tensor` using weight and `conv_strides`.\n",
    " * We recommend you use same padding, but you're welcome to use any padding.\n",
    "* Add bias\n",
    "* Add a nonlinear activation to the convolution.\n",
    "* Apply Max Pooling using `pool_ksize` and `pool_strides`.\n",
    " * We recommend you use same padding, but you're welcome to use any padding.\n",
    "\n",
    "**Note:** You **can't** use [TensorFlow Layers](https://www.tensorflow.org/api_docs/python/tf/layers) or [TensorFlow Layers (contrib)](https://www.tensorflow.org/api_guides/python/contrib.layers) for **this** layer, but you can still use TensorFlow's [Neural Network](https://www.tensorflow.org/api_docs/python/tf/nn) package. You may still use the shortcut option for all the **other** layers."
   ]
  },
  {
   "cell_type": "code",
   "execution_count": 9,
   "metadata": {
    "collapsed": false,
    "deletable": true,
    "editable": true
   },
   "outputs": [
    {
     "name": "stdout",
     "output_type": "stream",
     "text": [
      "Tests Passed\n"
     ]
    }
   ],
   "source": [
    "def conv2d_maxpool(x_tensor, conv_num_outputs, conv_ksize, conv_strides, pool_ksize, pool_strides):\n",
    "    \"\"\"\n",
    "    Apply convolution then max pooling to x_tensor\n",
    "    :param x_tensor: TensorFlow Tensor\n",
    "    :param conv_num_outputs: Number of outputs for the convolutional layer\n",
    "    :param conv_ksize: kernal size 2-D Tuple for the convolutional layer\n",
    "    :param conv_strides: Stride 2-D Tuple for convolution\n",
    "    :param pool_ksize: kernal size 2-D Tuple for pool\n",
    "    :param pool_strides: Stride 2-D Tuple for pool\n",
    "    : return: A tensor that represents convolution and max pooling of x_tensor\n",
    "    \"\"\"\n",
    "\n",
    "    # Shape of the filter-weights for the convolution.\n",
    "    input_channels = x_tensor.shape[3].value\n",
    "    shape = [conv_ksize[0], conv_ksize[1], input_channels , conv_num_outputs]\n",
    "\n",
    "    # Create new weights aka. filters with the given shape.\n",
    "    weights = tf.Variable( tf.truncated_normal(shape, stddev = 0.05), name = 'weights' )\n",
    "\n",
    "    # Create new biases, one for each filter.\n",
    "    biases = tf.Variable( tf.constant(0.05, shape = [conv_num_outputs]), name = 'biases' )\n",
    "\n",
    "    # Create the TensorFlow operation for convolution.\n",
    "    layer = tf.nn.conv2d(input = x_tensor,\n",
    "                         filter = weights,\n",
    "                         strides = [1, conv_strides[0], conv_strides[1], 1],\n",
    "                         padding = 'SAME')\n",
    "\n",
    "    # Add the biases to the results of the convolution.\n",
    "    # A bias-value is added to each filter-channel.\n",
    "    layer = tf.nn.bias_add(layer, biases)\n",
    "\n",
    "    # Pooling\n",
    "    layer = tf.nn.max_pool(value = layer,\n",
    "                           ksize = [1, pool_ksize[0], pool_ksize[1], 1],\n",
    "                           strides = [1, pool_strides[0], pool_strides[1], 1],\n",
    "                           padding = 'SAME')\n",
    "\n",
    "    # Rectified Linear Unit (ReLU).\n",
    "    layer = tf.nn.relu(layer)\n",
    "\n",
    "    # We return both the resulting layer and the filter-weights\n",
    "    # because we will plot the weights later.\n",
    "    return layer\n",
    "\n",
    "\"\"\"\n",
    "DON'T MODIFY ANYTHING IN THIS CELL THAT IS BELOW THIS LINE\n",
    "\"\"\"\n",
    "tests.test_con_pool(conv2d_maxpool)"
   ]
  },
  {
   "cell_type": "markdown",
   "metadata": {
    "deletable": true,
    "editable": true
   },
   "source": [
    "### Flatten Layer\n",
    "Implement the `flatten` function to change the dimension of `x_tensor` from a 4-D tensor to a 2-D tensor.  The output should be the shape (*Batch Size*, *Flattened Image Size*). Shortcut option: you can use classes from the [TensorFlow Layers](https://www.tensorflow.org/api_docs/python/tf/layers) or [TensorFlow Layers (contrib)](https://www.tensorflow.org/api_guides/python/contrib.layers) packages for this layer. For more of a challenge, only use other TensorFlow packages."
   ]
  },
  {
   "cell_type": "code",
   "execution_count": 10,
   "metadata": {
    "collapsed": false,
    "deletable": true,
    "editable": true
   },
   "outputs": [
    {
     "name": "stdout",
     "output_type": "stream",
     "text": [
      "Tests Passed\n"
     ]
    }
   ],
   "source": [
    "def flatten( x_tensor ):\n",
    "    \"\"\"\n",
    "    Flatten x_tensor to (Batch Size, Flattened Image Size)\n",
    "    : x_tensor: A tensor of size (Batch Size, ...), where ... are the image dimensions.\n",
    "    : return: A tensor of size (Batch Size, Flattened Image Size).\n",
    "    \"\"\"\n",
    "    \n",
    "    # Get the shape of the input layer.\n",
    "    layer_shape = x_tensor.get_shape()\n",
    "\n",
    "    # The shape of the input layer is assumed to be:\n",
    "    # layer_shape == [num_images, img_height, img_width, num_channels]\n",
    "    # The number of features is: img_height * img_width * num_channels\n",
    "    # We can use a function from TensorFlow to calculate this.\n",
    "    num_features = layer_shape[1:4].num_elements()\n",
    "    \n",
    "    # Reshape the layer to [num_images, num_features].\n",
    "    layer_flat = tf.reshape(x_tensor, [-1, num_features])\n",
    "\n",
    "    # The shape of the flattened layer is now:\n",
    "    # [num_images, img_height * img_width * num_channels]\n",
    "\n",
    "    # Return both the flattened layer and the number of features.\n",
    "    return layer_flat\n",
    "    \n",
    "\n",
    "\n",
    "\"\"\"\n",
    "DON'T MODIFY ANYTHING IN THIS CELL THAT IS BELOW THIS LINE\n",
    "\"\"\"\n",
    "tests.test_flatten(flatten)"
   ]
  },
  {
   "cell_type": "markdown",
   "metadata": {
    "deletable": true,
    "editable": true
   },
   "source": [
    "### Fully-Connected Layer\n",
    "Implement the `fully_conn` function to apply a fully connected layer to `x_tensor` with the shape (*Batch Size*, *num_outputs*). Shortcut option: you can use classes from the [TensorFlow Layers](https://www.tensorflow.org/api_docs/python/tf/layers) or [TensorFlow Layers (contrib)](https://www.tensorflow.org/api_guides/python/contrib.layers) packages for this layer. For more of a challenge, only use other TensorFlow packages."
   ]
  },
  {
   "cell_type": "code",
   "execution_count": 11,
   "metadata": {
    "collapsed": false,
    "deletable": true,
    "editable": true
   },
   "outputs": [
    {
     "name": "stdout",
     "output_type": "stream",
     "text": [
      "Tests Passed\n"
     ]
    }
   ],
   "source": [
    "def fully_conn(x_tensor, num_outputs, non_linear_activation = True):\n",
    "    \"\"\"\n",
    "    Apply a fully connected layer to x_tensor using weight and bias\n",
    "    : x_tensor: A 2-D tensor where the first dimension is batch size.\n",
    "    : num_outputs: The number of output that the new tensor should be.\n",
    "    : return: A 2-D tensor where the second dimension is num_outputs.\n",
    "    \"\"\"\n",
    "\n",
    "    # Create new weights and biases.\n",
    "    num_inputs = x_tensor.shape[1].value\n",
    "    weights = tf.Variable( tf.truncated_normal([num_inputs, num_outputs], stddev = 0.05), name = 'weights' )\n",
    "    biases = tf.Variable( tf.constant(0.05, shape = [num_outputs]), name = 'biases' )\n",
    "    \n",
    "    # Calculate the layer as the matrix multiplication of\n",
    "    # the input and weights, and then add the bias-values.\n",
    "    layer = tf.matmul(x_tensor, weights) + biases\n",
    "    \n",
    "    # Non linear activation\n",
    "    if non_linear_activation:\n",
    "        layer = tf.nn.relu( layer )\n",
    "\n",
    "    return layer\n",
    "\n",
    "\n",
    "\"\"\"\n",
    "DON'T MODIFY ANYTHING IN THIS CELL THAT IS BELOW THIS LINE\n",
    "\"\"\"\n",
    "tests.test_fully_conn(fully_conn)"
   ]
  },
  {
   "cell_type": "markdown",
   "metadata": {
    "deletable": true,
    "editable": true
   },
   "source": [
    "### Output Layer\n",
    "Implement the `output` function to apply a fully connected layer to `x_tensor` with the shape (*Batch Size*, *num_outputs*). Shortcut option: you can use classes from the [TensorFlow Layers](https://www.tensorflow.org/api_docs/python/tf/layers) or [TensorFlow Layers (contrib)](https://www.tensorflow.org/api_guides/python/contrib.layers) packages for this layer. For more of a challenge, only use other TensorFlow packages.\n",
    "\n",
    "**Note:** Activation, softmax, or cross entropy should **not** be applied to this."
   ]
  },
  {
   "cell_type": "code",
   "execution_count": 12,
   "metadata": {
    "collapsed": false,
    "deletable": true,
    "editable": true
   },
   "outputs": [
    {
     "name": "stdout",
     "output_type": "stream",
     "text": [
      "Tests Passed\n"
     ]
    }
   ],
   "source": [
    "\n",
    "def output(x_tensor, num_outputs):\n",
    "    \"\"\"\n",
    "    Apply a output layer to x_tensor using weight and bias\n",
    "    : x_tensor: A 2-D tensor where the first dimension is batch size.\n",
    "    : num_outputs: The number of output that the new tensor should be.\n",
    "    : return: A 2-D tensor where the second dimension is num_outputs.\n",
    "    \"\"\"\n",
    "    # The layer is a fully connected one without the non-linear activation.\n",
    "    return fully_conn(x_tensor, num_outputs, non_linear_activation = False)\n",
    "\n",
    "\n",
    "\n",
    "\"\"\"\n",
    "DON'T MODIFY ANYTHING IN THIS CELL THAT IS BELOW THIS LINE\n",
    "\"\"\"\n",
    "tests.test_output(output)"
   ]
  },
  {
   "cell_type": "markdown",
   "metadata": {
    "deletable": true,
    "editable": true
   },
   "source": [
    "### Create Convolutional Model\n",
    "Implement the function `conv_net` to create a convolutional neural network model. The function takes in a batch of images, `x`, and outputs logits.  Use the layers you created above to create this model:\n",
    "\n",
    "* Apply 1, 2, or 3 Convolution and Max Pool layers\n",
    "* Apply a Flatten Layer\n",
    "* Apply 1, 2, or 3 Fully Connected Layers\n",
    "* Apply an Output Layer\n",
    "* Return the output\n",
    "* Apply [TensorFlow's Dropout](https://www.tensorflow.org/api_docs/python/tf/nn/dropout) to one or more layers in the model using `keep_prob`. "
   ]
  },
  {
   "cell_type": "code",
   "execution_count": 13,
   "metadata": {
    "collapsed": false,
    "deletable": true,
    "editable": true
   },
   "outputs": [
    {
     "name": "stdout",
     "output_type": "stream",
     "text": [
      "Neural Network Built!\n"
     ]
    }
   ],
   "source": [
    "def conv_net(x, keep_prob):\n",
    "    \"\"\"\n",
    "    Create a convolutional neural network model\n",
    "    : x: Placeholder tensor that holds image data.\n",
    "    : keep_prob: Placeholder tensor that hold dropout keep probability.\n",
    "    : return: Tensor that represents logits\n",
    "    \"\"\"\n",
    "    # Apply 1, 2, or 3 Convolution and Max Pool layers\n",
    "    #    Play around with different number of outputs, kernel size and stride\n",
    "    #    conv2d_maxpool(x_tensor, conv_num_outputs, conv_ksize, conv_strides, pool_ksize, pool_strides)\n",
    "    conv_1 =    conv2d_maxpool(x,       16,         [3,3],      [1,1],          [1,1],      [1,1])\n",
    "    conv_1 =    tf.nn.dropout( conv_1, keep_prob )\n",
    "    conv_2 =    conv2d_maxpool(conv_1,  32,         [3,3],      [1,1],          [2,2],      [2,2])\n",
    "    conv_2 =    tf.nn.dropout( conv_2, keep_prob )\n",
    "    conv_last = conv2d_maxpool(conv_2,  64,         [5,5],      [2,2],          [2,2],      [2,2])\n",
    "    conv_last = tf.nn.dropout( conv_last, keep_prob )\n",
    "    # Apply a Flatten Layer\n",
    "    x_flat = flatten( conv_last )\n",
    "\n",
    "    # Apply 1, 2, or 3 Fully Connected Layers\n",
    "    # Play around with different number of outputs\n",
    "    full_1 =    fully_conn(x_flat, 256)\n",
    "    full_1 =    tf.nn.dropout( full_1, keep_prob )\n",
    "    full_last = fully_conn( full_1, 64)\n",
    "    full_last = tf.nn.dropout( full_last, keep_prob )\n",
    "    \n",
    "    # Apply an Output Layer\n",
    "    # Set this to the number of classes\n",
    "    output_layer = output( full_last, 10 )\n",
    "    \n",
    "    return output_layer\n",
    "\n",
    "\n",
    "\"\"\"\n",
    "DON'T MODIFY ANYTHING IN THIS CELL THAT IS BELOW THIS LINE\n",
    "\"\"\"\n",
    "\n",
    "##############################\n",
    "## Build the Neural Network ##\n",
    "##############################\n",
    "\n",
    "# Remove previous weights, bias, inputs, etc..\n",
    "tf.reset_default_graph()\n",
    "\n",
    "# Inputs\n",
    "x = neural_net_image_input((32, 32, 3))\n",
    "y = neural_net_label_input(10)\n",
    "keep_prob = neural_net_keep_prob_input()\n",
    "\n",
    "# Model\n",
    "logits = conv_net(x, keep_prob)\n",
    "\n",
    "# Name logits Tensor, so that is can be loaded from disk after training\n",
    "logits = tf.identity(logits, name='logits')\n",
    "\n",
    "# Loss and Optimizer\n",
    "cost = tf.reduce_mean(tf.nn.softmax_cross_entropy_with_logits(logits=logits, labels=y))\n",
    "optimizer = tf.train.AdamOptimizer().minimize(cost)\n",
    "\n",
    "# Accuracy\n",
    "correct_pred = tf.equal(tf.argmax(logits, 1), tf.argmax(y, 1))\n",
    "accuracy = tf.reduce_mean(tf.cast(correct_pred, tf.float32), name='accuracy')\n",
    "\n",
    "tests.test_conv_net(conv_net)"
   ]
  },
  {
   "cell_type": "markdown",
   "metadata": {
    "deletable": true,
    "editable": true
   },
   "source": [
    "## Train the Neural Network\n",
    "### Single Optimization\n",
    "Implement the function `train_neural_network` to do a single optimization.  The optimization should use `optimizer` to optimize in `session` with a `feed_dict` of the following:\n",
    "* `x` for image input\n",
    "* `y` for labels\n",
    "* `keep_prob` for keep probability for dropout\n",
    "\n",
    "This function will be called for each batch, so `tf.global_variables_initializer()` has already been called.\n",
    "\n",
    "Note: Nothing needs to be returned. This function is only optimizing the neural network."
   ]
  },
  {
   "cell_type": "code",
   "execution_count": 14,
   "metadata": {
    "collapsed": false,
    "deletable": true,
    "editable": true
   },
   "outputs": [
    {
     "name": "stdout",
     "output_type": "stream",
     "text": [
      "Tests Passed\n"
     ]
    }
   ],
   "source": [
    "def train_neural_network_once(session, optimizer, keep_probability, feature_batch, label_batch, x, y, keep_prob):\n",
    "    \"\"\"\n",
    "    Optimize the session on a batch of images and labels\n",
    "    : session: Current TensorFlow session\n",
    "    : optimizer: TensorFlow optimizer function\n",
    "    : keep_probability: keep probability\n",
    "    : feature_batch: Batch of Numpy image data\n",
    "    : label_batch: Batch of Numpy label data\n",
    "    : x, y, keep_prob: Are the tensors for input, output and dropout\n",
    "    \"\"\"\n",
    "    \n",
    "    dict_feed_train = { x: feature_batch, y: label_batch, keep_prob: keep_probability }\n",
    "    session.run(optimizer, feed_dict = dict_feed_train)\n",
    "    \n",
    "\n",
    "\"\"\"\n",
    "DON'T MODIFY ANYTHING IN THIS CELL THAT IS BELOW THIS LINE\n",
    "* In order to allow to have train_neural_network_once in a different file, I neede to pass\n",
    "  x, y and keep_prob explicitly. In the original code those came as globals.\n",
    "\"\"\"\n",
    "tests.test_train_nn(train_neural_network_once, x, y, keep_prob)"
   ]
  },
  {
   "cell_type": "markdown",
   "metadata": {
    "deletable": true,
    "editable": true
   },
   "source": [
    "### Show Stats\n",
    "Implement the function `print_stats` to print loss and validation accuracy.  Use the global variables `valid_features` and `valid_labels` to calculate validation accuracy.  Use a keep probability of `1.0` to calculate the loss and validation accuracy."
   ]
  },
  {
   "cell_type": "code",
   "execution_count": 15,
   "metadata": {
    "collapsed": false,
    "deletable": true,
    "editable": true
   },
   "outputs": [],
   "source": [
    "def print_stats(session, feature_batch, label_batch, cost, accuracy, x, y, keep_prob):\n",
    "    \"\"\"\n",
    "    Print information about loss and validation accuracy\n",
    "    : session: Current TensorFlow session\n",
    "    : feature_batch: Batch of Numpy image data\n",
    "    : label_batch: Batch of Numpy label data\n",
    "    : cost: TensorFlow cost function\n",
    "    : accuracy: TensorFlow accuracy function\n",
    "    \"\"\"\n",
    "    feed_dict_fwd = { x: feature_batch, y: label_batch, keep_prob: 1.0 }\n",
    "    \n",
    "    \n",
    "    cost = session.run(cost, feed_dict = feed_dict_fwd)\n",
    "    acc = session.run(accuracy, feed_dict = feed_dict_fwd)\n",
    "    \n",
    "    print('Cost: {:05.4}, Acc: {:.1%}'.format(cost, acc) )"
   ]
  },
  {
   "cell_type": "markdown",
   "metadata": {
    "deletable": true,
    "editable": true
   },
   "source": [
    "### Hyperparameters\n",
    "Tune the following parameters:\n",
    "* Set `epochs` to the number of iterations until the network stops learning or start overfitting\n",
    "* Set `batch_size` to the highest number that your machine has memory for.  Most people set them to common sizes of memory:\n",
    " * 64\n",
    " * 128\n",
    " * 256\n",
    " * ...\n",
    "* Set `keep_probability` to the probability of keeping a node using dropout"
   ]
  },
  {
   "cell_type": "code",
   "execution_count": 16,
   "metadata": {
    "collapsed": true,
    "deletable": true,
    "editable": true
   },
   "outputs": [],
   "source": [
    "# TODO: Tune Parameters\n",
    "epochs = 10\n",
    "batch_size = 64*4\n",
    "keep_probability = 0.5#1.0"
   ]
  },
  {
   "cell_type": "markdown",
   "metadata": {
    "deletable": true,
    "editable": true
   },
   "source": [
    "### Train on a Single CIFAR-10 Batch\n",
    "Instead of training the neural network on all the CIFAR-10 batches of data, let's use a single batch. This should save time while you iterate on the model to get a better accuracy.  Once the final validation accuracy is 50% or greater, run the model on all the data in the next section."
   ]
  },
  {
   "cell_type": "code",
   "execution_count": 17,
   "metadata": {
    "collapsed": false,
    "deletable": true,
    "editable": true
   },
   "outputs": [],
   "source": [
    "'''\n",
    "I created a function to run the training on the selected number of batches, and with the option to \n",
    "load the a training stored from a file. \n",
    "'''\n",
    "\n",
    "import time\n",
    "from datetime import timedelta\n",
    "def train_neural_network_full(optimizer, cost, accuracy, x, y, keep_prob, keep_probability, n_batches, batch_size, shuffle_data, epochs, load_data = False, file_path = './training_progress/saved_progress'):\n",
    "    \n",
    "    saver = tf.train.Saver()\n",
    "    with tf.Session() as sess:\n",
    "        # Initializing the variables\n",
    "        if load_data:\n",
    "            print('Continue a started training...')\n",
    "            saver.restore(sess, file_path)\n",
    "        else:\n",
    "            print('Starting training...')\n",
    "            sess.run(tf.global_variables_initializer())\n",
    "        \n",
    "        start_time = time.time()\n",
    "        \n",
    "        # Training cycle\n",
    "        for epoch in range(epochs):\n",
    "            \n",
    "            for batch_i in range(1, n_batches + 1):\n",
    "                start_time_batch = time.time()\n",
    "                \n",
    "                for batch_features, batch_labels in helper.load_preprocess_training_batch(batch_i, batch_size, shuffle_data = True):\n",
    "                    \n",
    "                    train_neural_network_once(sess, optimizer, keep_probability, batch_features, batch_labels, x, y, keep_prob)\n",
    "                    \n",
    "                end_time_batch = time.time()\n",
    "                time_dif = str(timedelta(seconds = int(round(end_time_batch - start_time_batch))))\n",
    "                print('Epoch {:>2}, time  {} sec, CIFAR-10 Batch {}:  '.format(epoch + 1, time_dif, batch_i), end='')\n",
    "                print_stats(sess, batch_features, batch_labels, cost, accuracy, x, y, keep_prob)        \n",
    "    \n",
    "        # Print the time-usage.\n",
    "        end_time = time.time()\n",
    "        time_dif = end_time - start_time\n",
    "        print(\"Time usage: \" + str(timedelta(seconds = int(round(time_dif)))))\n",
    "        \n",
    "        save_path = saver.save(sess, file_path)"
   ]
  },
  {
   "cell_type": "code",
   "execution_count": 18,
   "metadata": {
    "collapsed": false,
    "deletable": true,
    "editable": true
   },
   "outputs": [
    {
     "name": "stdout",
     "output_type": "stream",
     "text": [
      "Checking the Training on a Single Batch...\n",
      "Starting training...\n",
      "Epoch  1, time  0:00:04 sec, CIFAR-10 Batch 1:  Cost: 2.303, Acc: 10.0%\n",
      "Epoch  2, time  0:00:03 sec, CIFAR-10 Batch 1:  Cost: 2.301, Acc: 15.0%\n",
      "Epoch  3, time  0:00:03 sec, CIFAR-10 Batch 1:  Cost: 2.146, Acc: 22.5%\n",
      "Epoch  4, time  0:00:03 sec, CIFAR-10 Batch 1:  Cost: 2.012, Acc: 20.0%\n",
      "Epoch  5, time  0:00:03 sec, CIFAR-10 Batch 1:  Cost: 1.963, Acc: 17.5%\n",
      "Epoch  6, time  0:00:03 sec, CIFAR-10 Batch 1:  Cost: 1.984, Acc: 25.0%\n",
      "Epoch  7, time  0:00:03 sec, CIFAR-10 Batch 1:  Cost: 1.787, Acc: 40.0%\n",
      "Epoch  8, time  0:00:03 sec, CIFAR-10 Batch 1:  Cost: 1.797, Acc: 22.5%\n",
      "Epoch  9, time  0:00:03 sec, CIFAR-10 Batch 1:  Cost: 1.868, Acc: 20.0%\n",
      "Epoch 10, time  0:00:03 sec, CIFAR-10 Batch 1:  Cost: 1.632, Acc: 37.5%\n",
      "Time usage: 0:00:32\n"
     ]
    }
   ],
   "source": [
    "print('Checking the Training on a Single Batch...')\n",
    "n_batches = 1\n",
    "shuffle_data = True\n",
    "\n",
    "train_neural_network_full(optimizer, cost, accuracy, x, y, keep_prob, keep_probability, n_batches, batch_size, shuffle_data, epochs)"
   ]
  },
  {
   "cell_type": "markdown",
   "metadata": {
    "deletable": true,
    "editable": true
   },
   "source": [
    "### Fully Train the Model\n",
    "Now that you got a good accuracy with a single CIFAR-10 batch, try it with all five batches."
   ]
  },
  {
   "cell_type": "code",
   "execution_count": 19,
   "metadata": {
    "collapsed": false,
    "deletable": true,
    "editable": true
   },
   "outputs": [
    {
     "name": "stdout",
     "output_type": "stream",
     "text": [
      "Starting training...\n",
      "Epoch  1, time  0:00:03 sec, CIFAR-10 Batch 1:  Cost: 2.299, Acc: 20.0%\n",
      "Epoch  1, time  0:00:03 sec, CIFAR-10 Batch 2:  Cost: 2.101, Acc: 22.5%\n",
      "Epoch  1, time  0:00:03 sec, CIFAR-10 Batch 3:  Cost: 1.944, Acc: 20.0%\n",
      "Epoch  1, time  0:00:03 sec, CIFAR-10 Batch 4:  Cost: 2.083, Acc: 20.0%\n",
      "Epoch  1, time  0:00:03 sec, CIFAR-10 Batch 5:  Cost: 1.968, Acc: 27.5%\n",
      "Epoch  2, time  0:00:03 sec, CIFAR-10 Batch 1:  Cost: 2.065, Acc: 22.5%\n",
      "Epoch  2, time  0:00:03 sec, CIFAR-10 Batch 2:  Cost: 1.936, Acc: 35.0%\n",
      "Epoch  2, time  0:00:03 sec, CIFAR-10 Batch 3:  Cost: 01.86, Acc: 37.5%\n",
      "Epoch  2, time  0:00:03 sec, CIFAR-10 Batch 4:  Cost: 1.709, Acc: 32.5%\n",
      "Epoch  2, time  0:00:03 sec, CIFAR-10 Batch 5:  Cost: 01.81, Acc: 32.5%\n",
      "Epoch  3, time  0:00:03 sec, CIFAR-10 Batch 1:  Cost: 1.684, Acc: 47.5%\n",
      "Epoch  3, time  0:00:03 sec, CIFAR-10 Batch 2:  Cost: 1.708, Acc: 32.5%\n",
      "Epoch  3, time  0:00:03 sec, CIFAR-10 Batch 3:  Cost: 1.559, Acc: 50.0%\n",
      "Epoch  3, time  0:00:03 sec, CIFAR-10 Batch 4:  Cost: 1.483, Acc: 50.0%\n",
      "Epoch  3, time  0:00:03 sec, CIFAR-10 Batch 5:  Cost: 1.787, Acc: 32.5%\n",
      "Epoch  4, time  0:00:03 sec, CIFAR-10 Batch 1:  Cost: 1.525, Acc: 52.5%\n",
      "Epoch  4, time  0:00:03 sec, CIFAR-10 Batch 2:  Cost: 1.559, Acc: 42.5%\n",
      "Epoch  4, time  0:00:03 sec, CIFAR-10 Batch 3:  Cost: 1.465, Acc: 42.5%\n",
      "Epoch  4, time  0:00:03 sec, CIFAR-10 Batch 4:  Cost: 1.568, Acc: 37.5%\n",
      "Epoch  4, time  0:00:03 sec, CIFAR-10 Batch 5:  Cost: 1.415, Acc: 45.0%\n",
      "Epoch  5, time  0:00:03 sec, CIFAR-10 Batch 1:  Cost: 1.453, Acc: 60.0%\n",
      "Epoch  5, time  0:00:03 sec, CIFAR-10 Batch 2:  Cost: 1.241, Acc: 50.0%\n",
      "Epoch  5, time  0:00:03 sec, CIFAR-10 Batch 3:  Cost: 1.456, Acc: 55.0%\n",
      "Epoch  5, time  0:00:03 sec, CIFAR-10 Batch 4:  Cost: 1.533, Acc: 55.0%\n",
      "Epoch  5, time  0:00:03 sec, CIFAR-10 Batch 5:  Cost: 1.346, Acc: 52.5%\n",
      "Epoch  6, time  0:00:03 sec, CIFAR-10 Batch 1:  Cost: 1.198, Acc: 57.5%\n",
      "Epoch  6, time  0:00:03 sec, CIFAR-10 Batch 2:  Cost: 1.428, Acc: 27.5%\n",
      "Epoch  6, time  0:00:03 sec, CIFAR-10 Batch 3:  Cost: 1.205, Acc: 65.0%\n",
      "Epoch  6, time  0:00:03 sec, CIFAR-10 Batch 4:  Cost: 1.616, Acc: 52.5%\n",
      "Epoch  6, time  0:00:03 sec, CIFAR-10 Batch 5:  Cost: 1.337, Acc: 50.0%\n",
      "Epoch  7, time  0:00:03 sec, CIFAR-10 Batch 1:  Cost: 1.371, Acc: 45.0%\n",
      "Epoch  7, time  0:00:03 sec, CIFAR-10 Batch 2:  Cost: 01.11, Acc: 62.5%\n",
      "Epoch  7, time  0:00:03 sec, CIFAR-10 Batch 3:  Cost: 1.358, Acc: 52.5%\n",
      "Epoch  7, time  0:00:03 sec, CIFAR-10 Batch 4:  Cost: 1.431, Acc: 42.5%\n",
      "Epoch  7, time  0:00:03 sec, CIFAR-10 Batch 5:  Cost: 1.357, Acc: 52.5%\n",
      "Epoch  8, time  0:00:03 sec, CIFAR-10 Batch 1:  Cost: 1.219, Acc: 65.0%\n",
      "Epoch  8, time  0:00:03 sec, CIFAR-10 Batch 2:  Cost: 1.135, Acc: 62.5%\n",
      "Epoch  8, time  0:00:03 sec, CIFAR-10 Batch 3:  Cost: 1.303, Acc: 62.5%\n",
      "Epoch  8, time  0:00:03 sec, CIFAR-10 Batch 4:  Cost: 1.193, Acc: 55.0%\n",
      "Epoch  8, time  0:00:03 sec, CIFAR-10 Batch 5:  Cost: 1.309, Acc: 50.0%\n",
      "Epoch  9, time  0:00:03 sec, CIFAR-10 Batch 1:  Cost: 1.326, Acc: 47.5%\n",
      "Epoch  9, time  0:00:03 sec, CIFAR-10 Batch 2:  Cost: 1.272, Acc: 52.5%\n",
      "Epoch  9, time  0:00:03 sec, CIFAR-10 Batch 3:  Cost: 1.187, Acc: 70.0%\n",
      "Epoch  9, time  0:00:03 sec, CIFAR-10 Batch 4:  Cost: 1.445, Acc: 55.0%\n",
      "Epoch  9, time  0:00:03 sec, CIFAR-10 Batch 5:  Cost: 1.036, Acc: 62.5%\n",
      "Epoch 10, time  0:00:03 sec, CIFAR-10 Batch 1:  Cost: 1.254, Acc: 50.0%\n",
      "Epoch 10, time  0:00:03 sec, CIFAR-10 Batch 2:  Cost: 1.074, Acc: 60.0%\n",
      "Epoch 10, time  0:00:03 sec, CIFAR-10 Batch 3:  Cost: 1.023, Acc: 57.5%\n",
      "Epoch 10, time  0:00:03 sec, CIFAR-10 Batch 4:  Cost: 1.462, Acc: 47.5%\n",
      "Epoch 10, time  0:00:03 sec, CIFAR-10 Batch 5:  Cost: 1.196, Acc: 65.0%\n",
      "Time usage: 0:02:37\n"
     ]
    }
   ],
   "source": [
    "# Run in all the batches and store the trained model. After the test I check with an extra \n",
    "# round of training.\n",
    "save_model_path = './training_progress/saved_progress'\n",
    "epochs = 10\n",
    "batch_size = 64*4\n",
    "keep_probability = 0.5#1.0\n",
    "n_batches = 5\n",
    "shuffle_data = True\n",
    "train_neural_network_full(optimizer, cost, accuracy, x, y, keep_prob, keep_probability, n_batches, batch_size, shuffle_data, epochs, False, save_model_path)\n"
   ]
  },
  {
   "cell_type": "markdown",
   "metadata": {
    "deletable": true,
    "editable": true
   },
   "source": [
    "# Checkpoint\n",
    "The model has been saved to disk.\n",
    "## Test Model\n",
    "Test your model against the test dataset.  This will be your final accuracy. You should have an accuracy greater than 50%. If you don't, keep tweaking the model architecture and parameters."
   ]
  },
  {
   "cell_type": "code",
   "execution_count": 20,
   "metadata": {
    "collapsed": false,
    "deletable": true,
    "editable": true
   },
   "outputs": [
    {
     "name": "stdout",
     "output_type": "stream",
     "text": [
      "INFO:tensorflow:Restoring parameters from ./training_progress/saved_progress\n",
      "Testing Accuracy: 0.55751953125\n",
      "\n"
     ]
    },
    {
     "data": {
      "image/png": "[encoded data removed]",
      "text/plain": [
       "<matplotlib.figure.Figure at 0x2b0e91966d8>"
      ]
     },
     "metadata": {
      "image/png": {
       "height": 319,
       "width": 355
      }
     },
     "output_type": "display_data"
    }
   ],
   "source": [
    "\"\"\"\n",
    "DON'T MODIFY ANYTHING IN THIS CELL\n",
    "\"\"\"\n",
    "%matplotlib inline\n",
    "%config InlineBackend.figure_format = 'retina'\n",
    "\n",
    "import tensorflow as tf\n",
    "import pickle\n",
    "import helper\n",
    "import random\n",
    "\n",
    "# Set batch size if not already set\n",
    "try:\n",
    "    if batch_size:\n",
    "        pass\n",
    "except NameError:\n",
    "    batch_size = 64\n",
    "\n",
    "save_model_path = './training_progress/saved_progress'\n",
    "n_samples = 4\n",
    "top_n_predictions = 3\n",
    "\n",
    "def test_model():\n",
    "    \"\"\"\n",
    "    Test the saved model against the test dataset\n",
    "    \"\"\"\n",
    "\n",
    "    test_features, test_labels = pickle.load(open('.\\cifar-10-batches-py\\preprocess_training.p', mode='rb'))\n",
    "    loaded_graph = tf.Graph()\n",
    "\n",
    "    with tf.Session(graph=loaded_graph) as sess:\n",
    "        # Load model\n",
    "        loader = tf.train.import_meta_graph(save_model_path + '.meta')\n",
    "        loader.restore(sess, save_model_path)\n",
    "\n",
    "        # Get Tensors from loaded model\n",
    "        loaded_x = loaded_graph.get_tensor_by_name('x:0')\n",
    "        loaded_y = loaded_graph.get_tensor_by_name('y:0')\n",
    "        loaded_keep_prob = loaded_graph.get_tensor_by_name('keep_prob:0')\n",
    "        loaded_logits = loaded_graph.get_tensor_by_name('logits:0')\n",
    "        loaded_acc = loaded_graph.get_tensor_by_name('accuracy:0')\n",
    "        \n",
    "        # Get accuracy in batches for memory limitations\n",
    "        test_batch_acc_total = 0\n",
    "        test_batch_count = 0\n",
    "        \n",
    "        for train_feature_batch, train_label_batch in helper.batch_features_labels(test_features, test_labels, batch_size):\n",
    "            test_batch_acc_total += sess.run(\n",
    "                loaded_acc,\n",
    "                feed_dict={loaded_x: train_feature_batch, loaded_y: train_label_batch, loaded_keep_prob: 1.0})\n",
    "            test_batch_count += 1\n",
    "\n",
    "        print('Testing Accuracy: {}\\n'.format(test_batch_acc_total/test_batch_count))\n",
    "\n",
    "        # Print Random Samples\n",
    "        random_test_features, random_test_labels = tuple(zip(*random.sample(list(zip(test_features, test_labels)), n_samples)))\n",
    "        random_test_predictions = sess.run(\n",
    "            tf.nn.top_k(tf.nn.softmax(loaded_logits), top_n_predictions),\n",
    "            feed_dict={loaded_x: random_test_features, loaded_y: random_test_labels, loaded_keep_prob: 1.0})\n",
    "        helper.display_image_predictions(random_test_features, random_test_labels, random_test_predictions)\n",
    "\n",
    "\n",
    "test_model()"
   ]
  },
  {
   "cell_type": "markdown",
   "metadata": {
    "deletable": true,
    "editable": true
   },
   "source": [
    "## Optional re-training\n",
    "Using the stored model from the previous training."
   ]
  },
  {
   "cell_type": "code",
   "execution_count": 23,
   "metadata": {
    "collapsed": false,
    "deletable": true,
    "editable": true
   },
   "outputs": [
    {
     "name": "stdout",
     "output_type": "stream",
     "text": [
      "Continue a started training...\n",
      "INFO:tensorflow:Restoring parameters from ./training_progress/saved_progress\n",
      "Epoch  1, time  0:00:03 sec, CIFAR-10 Batch 1:  Cost: 0.9804, Acc: 72.5%\n",
      "Epoch  1, time  0:00:03 sec, CIFAR-10 Batch 2:  Cost: 0.8739, Acc: 80.0%\n",
      "Epoch  1, time  0:00:03 sec, CIFAR-10 Batch 3:  Cost: 0.853, Acc: 75.0%\n",
      "Epoch  1, time  0:00:03 sec, CIFAR-10 Batch 4:  Cost: 0.9745, Acc: 72.5%\n",
      "Epoch  1, time  0:00:03 sec, CIFAR-10 Batch 5:  Cost: 0.9834, Acc: 72.5%\n",
      "Epoch  2, time  0:00:03 sec, CIFAR-10 Batch 1:  Cost: 0.9087, Acc: 67.5%\n",
      "Epoch  2, time  0:00:03 sec, CIFAR-10 Batch 2:  Cost: 01.02, Acc: 67.5%\n",
      "Epoch  2, time  0:00:03 sec, CIFAR-10 Batch 3:  Cost: 0.8574, Acc: 70.0%\n",
      "Epoch  2, time  0:00:03 sec, CIFAR-10 Batch 4:  Cost: 0.9972, Acc: 72.5%\n",
      "Epoch  2, time  0:00:03 sec, CIFAR-10 Batch 5:  Cost: 0.991, Acc: 67.5%\n",
      "Epoch  3, time  0:00:03 sec, CIFAR-10 Batch 1:  Cost: 0.9077, Acc: 75.0%\n",
      "Epoch  3, time  0:00:03 sec, CIFAR-10 Batch 2:  Cost: 0.7577, Acc: 77.5%\n",
      "Epoch  3, time  0:00:03 sec, CIFAR-10 Batch 3:  Cost: 0.966, Acc: 70.0%\n",
      "Epoch  3, time  0:00:03 sec, CIFAR-10 Batch 4:  Cost: 0.9768, Acc: 80.0%\n",
      "Epoch  3, time  0:00:03 sec, CIFAR-10 Batch 5:  Cost: 0.9022, Acc: 77.5%\n",
      "Epoch  4, time  0:00:03 sec, CIFAR-10 Batch 1:  Cost: 0.7857, Acc: 77.5%\n",
      "Epoch  4, time  0:00:03 sec, CIFAR-10 Batch 2:  Cost: 0.853, Acc: 70.0%\n",
      "Epoch  4, time  0:00:03 sec, CIFAR-10 Batch 3:  Cost: 0.9367, Acc: 67.5%\n",
      "Epoch  4, time  0:00:03 sec, CIFAR-10 Batch 4:  Cost: 0.9579, Acc: 67.5%\n",
      "Epoch  4, time  0:00:03 sec, CIFAR-10 Batch 5:  Cost: 0.941, Acc: 70.0%\n",
      "Epoch  5, time  0:00:03 sec, CIFAR-10 Batch 1:  Cost: 0.9802, Acc: 65.0%\n",
      "Epoch  5, time  0:00:03 sec, CIFAR-10 Batch 2:  Cost: 0.9115, Acc: 62.5%\n",
      "Epoch  5, time  0:00:03 sec, CIFAR-10 Batch 3:  Cost: 1.063, Acc: 57.5%\n",
      "Epoch  5, time  0:00:03 sec, CIFAR-10 Batch 4:  Cost: 0.7647, Acc: 72.5%\n",
      "Epoch  5, time  0:00:03 sec, CIFAR-10 Batch 5:  Cost: 1.228, Acc: 60.0%\n",
      "Epoch  6, time  0:00:03 sec, CIFAR-10 Batch 1:  Cost: 01.05, Acc: 67.5%\n",
      "Epoch  6, time  0:00:03 sec, CIFAR-10 Batch 2:  Cost: 0.6951, Acc: 87.5%\n",
      "Epoch  6, time  0:00:03 sec, CIFAR-10 Batch 3:  Cost: 1.066, Acc: 62.5%\n",
      "Epoch  6, time  0:00:03 sec, CIFAR-10 Batch 4:  Cost: 0.8281, Acc: 70.0%\n",
      "Epoch  6, time  0:00:03 sec, CIFAR-10 Batch 5:  Cost: 0.9722, Acc: 65.0%\n",
      "Epoch  7, time  0:00:03 sec, CIFAR-10 Batch 1:  Cost: 0.8874, Acc: 67.5%\n",
      "Epoch  7, time  0:00:03 sec, CIFAR-10 Batch 2:  Cost: 0.8738, Acc: 65.0%\n",
      "Epoch  7, time  0:00:03 sec, CIFAR-10 Batch 3:  Cost: 0.8707, Acc: 67.5%\n",
      "Epoch  7, time  0:00:03 sec, CIFAR-10 Batch 4:  Cost: 0.8281, Acc: 82.5%\n",
      "Epoch  7, time  0:00:03 sec, CIFAR-10 Batch 5:  Cost: 1.093, Acc: 57.5%\n",
      "Epoch  8, time  0:00:03 sec, CIFAR-10 Batch 1:  Cost: 0.8938, Acc: 70.0%\n",
      "Epoch  8, time  0:00:03 sec, CIFAR-10 Batch 2:  Cost: 0.9037, Acc: 75.0%\n",
      "Epoch  8, time  0:00:03 sec, CIFAR-10 Batch 3:  Cost: 0.7736, Acc: 75.0%\n",
      "Epoch  8, time  0:00:03 sec, CIFAR-10 Batch 4:  Cost: 0.8158, Acc: 72.5%\n",
      "Epoch  8, time  0:00:03 sec, CIFAR-10 Batch 5:  Cost: 0.8607, Acc: 80.0%\n",
      "Epoch  9, time  0:00:03 sec, CIFAR-10 Batch 1:  Cost: 0.7215, Acc: 75.0%\n",
      "Epoch  9, time  0:00:03 sec, CIFAR-10 Batch 2:  Cost: 1.075, Acc: 62.5%\n",
      "Epoch  9, time  0:00:03 sec, CIFAR-10 Batch 3:  Cost: 0.8372, Acc: 70.0%\n",
      "Epoch  9, time  0:00:03 sec, CIFAR-10 Batch 4:  Cost: 0.9672, Acc: 67.5%\n",
      "Epoch  9, time  0:00:03 sec, CIFAR-10 Batch 5:  Cost: 0.8606, Acc: 72.5%\n",
      "Epoch 10, time  0:00:03 sec, CIFAR-10 Batch 1:  Cost: 0.8713, Acc: 67.5%\n",
      "Epoch 10, time  0:00:03 sec, CIFAR-10 Batch 2:  Cost: 0.9827, Acc: 67.5%\n",
      "Epoch 10, time  0:00:03 sec, CIFAR-10 Batch 3:  Cost: 0.8121, Acc: 70.0%\n",
      "Epoch 10, time  0:00:03 sec, CIFAR-10 Batch 4:  Cost: 0.9348, Acc: 65.0%\n",
      "Epoch 10, time  0:00:03 sec, CIFAR-10 Batch 5:  Cost: 0.6895, Acc: 80.0%\n",
      "Epoch 11, time  0:00:03 sec, CIFAR-10 Batch 1:  Cost: 0.7637, Acc: 82.5%\n",
      "Epoch 11, time  0:00:03 sec, CIFAR-10 Batch 2:  Cost: 1.173, Acc: 62.5%\n",
      "Epoch 11, time  0:00:03 sec, CIFAR-10 Batch 3:  Cost: 0.9058, Acc: 67.5%\n",
      "Epoch 11, time  0:00:03 sec, CIFAR-10 Batch 4:  Cost: 0.7783, Acc: 80.0%\n",
      "Epoch 11, time  0:00:03 sec, CIFAR-10 Batch 5:  Cost: 0.9105, Acc: 67.5%\n",
      "Epoch 12, time  0:00:03 sec, CIFAR-10 Batch 1:  Cost: 1.107, Acc: 55.0%\n",
      "Epoch 12, time  0:00:03 sec, CIFAR-10 Batch 2:  Cost: 0.6507, Acc: 70.0%\n",
      "Epoch 12, time  0:00:03 sec, CIFAR-10 Batch 3:  Cost: 0.7654, Acc: 67.5%\n",
      "Epoch 12, time  0:00:03 sec, CIFAR-10 Batch 4:  Cost: 0.7012, Acc: 80.0%\n",
      "Epoch 12, time  0:00:03 sec, CIFAR-10 Batch 5:  Cost: 0.785, Acc: 80.0%\n",
      "Epoch 13, time  0:00:03 sec, CIFAR-10 Batch 1:  Cost: 0.8515, Acc: 72.5%\n",
      "Epoch 13, time  0:00:03 sec, CIFAR-10 Batch 2:  Cost: 0.9156, Acc: 72.5%\n",
      "Epoch 13, time  0:00:03 sec, CIFAR-10 Batch 3:  Cost: 0.6553, Acc: 85.0%\n",
      "Epoch 13, time  0:00:03 sec, CIFAR-10 Batch 4:  Cost: 01.04, Acc: 70.0%\n",
      "Epoch 13, time  0:00:03 sec, CIFAR-10 Batch 5:  Cost: 0.9131, Acc: 72.5%\n",
      "Epoch 14, time  0:00:03 sec, CIFAR-10 Batch 1:  Cost: 0.8709, Acc: 65.0%\n",
      "Epoch 14, time  0:00:03 sec, CIFAR-10 Batch 2:  Cost: 0.6813, Acc: 82.5%\n",
      "Epoch 14, time  0:00:03 sec, CIFAR-10 Batch 3:  Cost: 0.8917, Acc: 65.0%\n",
      "Epoch 14, time  0:00:03 sec, CIFAR-10 Batch 4:  Cost: 0.7002, Acc: 72.5%\n",
      "Epoch 14, time  0:00:03 sec, CIFAR-10 Batch 5:  Cost: 0.689, Acc: 82.5%\n",
      "Epoch 15, time  0:00:03 sec, CIFAR-10 Batch 1:  Cost: 0.8471, Acc: 77.5%\n",
      "Epoch 15, time  0:00:03 sec, CIFAR-10 Batch 2:  Cost: 0.9286, Acc: 75.0%\n",
      "Epoch 15, time  0:00:03 sec, CIFAR-10 Batch 3:  Cost: 1.109, Acc: 67.5%\n",
      "Epoch 15, time  0:00:03 sec, CIFAR-10 Batch 4:  Cost: 01.14, Acc: 57.5%\n",
      "Epoch 15, time  0:00:03 sec, CIFAR-10 Batch 5:  Cost: 0.6192, Acc: 87.5%\n",
      "Epoch 16, time  0:00:03 sec, CIFAR-10 Batch 1:  Cost: 0.9208, Acc: 70.0%\n",
      "Epoch 16, time  0:00:03 sec, CIFAR-10 Batch 2:  Cost: 0.8098, Acc: 70.0%\n",
      "Epoch 16, time  0:00:03 sec, CIFAR-10 Batch 3:  Cost: 0.7384, Acc: 70.0%\n",
      "Epoch 16, time  0:00:03 sec, CIFAR-10 Batch 4:  Cost: 0.5868, Acc: 85.0%\n",
      "Epoch 16, time  0:00:03 sec, CIFAR-10 Batch 5:  Cost: 0.7791, Acc: 72.5%\n",
      "Epoch 17, time  0:00:03 sec, CIFAR-10 Batch 1:  Cost: 0.7583, Acc: 72.5%\n",
      "Epoch 17, time  0:00:03 sec, CIFAR-10 Batch 2:  Cost: 0.8424, Acc: 70.0%\n",
      "Epoch 17, time  0:00:03 sec, CIFAR-10 Batch 3:  Cost: 0.8866, Acc: 67.5%\n",
      "Epoch 17, time  0:00:03 sec, CIFAR-10 Batch 4:  Cost: 0.7692, Acc: 67.5%\n",
      "Epoch 17, time  0:00:03 sec, CIFAR-10 Batch 5:  Cost: 0.6691, Acc: 82.5%\n",
      "Epoch 18, time  0:00:03 sec, CIFAR-10 Batch 1:  Cost: 0.8271, Acc: 75.0%\n",
      "Epoch 18, time  0:00:03 sec, CIFAR-10 Batch 2:  Cost: 0.8273, Acc: 70.0%\n",
      "Epoch 18, time  0:00:03 sec, CIFAR-10 Batch 3:  Cost: 0.6997, Acc: 75.0%\n",
      "Epoch 18, time  0:00:03 sec, CIFAR-10 Batch 4:  Cost: 0.9233, Acc: 77.5%\n",
      "Epoch 18, time  0:00:03 sec, CIFAR-10 Batch 5:  Cost: 0.7264, Acc: 75.0%\n",
      "Epoch 19, time  0:00:03 sec, CIFAR-10 Batch 1:  Cost: 0.7755, Acc: 77.5%\n",
      "Epoch 19, time  0:00:03 sec, CIFAR-10 Batch 2:  Cost: 0.8253, Acc: 67.5%\n",
      "Epoch 19, time  0:00:03 sec, CIFAR-10 Batch 3:  Cost: 0.6922, Acc: 77.5%\n",
      "Epoch 19, time  0:00:03 sec, CIFAR-10 Batch 4:  Cost: 0.7736, Acc: 75.0%\n",
      "Epoch 19, time  0:00:03 sec, CIFAR-10 Batch 5:  Cost: 0.6806, Acc: 67.5%\n",
      "Epoch 20, time  0:00:03 sec, CIFAR-10 Batch 1:  Cost: 0.696, Acc: 80.0%\n",
      "Epoch 20, time  0:00:03 sec, CIFAR-10 Batch 2:  Cost: 0.8507, Acc: 70.0%\n",
      "Epoch 20, time  0:00:03 sec, CIFAR-10 Batch 3:  Cost: 0.8963, Acc: 75.0%\n",
      "Epoch 20, time  0:00:03 sec, CIFAR-10 Batch 4:  Cost: 0.7174, Acc: 70.0%\n",
      "Epoch 20, time  0:00:03 sec, CIFAR-10 Batch 5:  Cost: 0.6765, Acc: 82.5%\n",
      "Epoch 21, time  0:00:03 sec, CIFAR-10 Batch 1:  Cost: 0.7662, Acc: 82.5%\n",
      "Epoch 21, time  0:00:03 sec, CIFAR-10 Batch 2:  Cost: 0.8515, Acc: 70.0%\n",
      "Epoch 21, time  0:00:03 sec, CIFAR-10 Batch 3:  Cost: 0.8367, Acc: 77.5%\n",
      "Epoch 21, time  0:00:03 sec, CIFAR-10 Batch 4:  Cost: 1.031, Acc: 60.0%\n",
      "Epoch 21, time  0:00:03 sec, CIFAR-10 Batch 5:  Cost: 0.9194, Acc: 65.0%\n",
      "Epoch 22, time  0:00:03 sec, CIFAR-10 Batch 1:  Cost: 0.9229, Acc: 75.0%\n",
      "Epoch 22, time  0:00:03 sec, CIFAR-10 Batch 2:  Cost: 0.7666, Acc: 77.5%\n",
      "Epoch 22, time  0:00:03 sec, CIFAR-10 Batch 3:  Cost: 0.5974, Acc: 80.0%\n",
      "Epoch 22, time  0:00:03 sec, CIFAR-10 Batch 4:  Cost: 0.6661, Acc: 82.5%\n",
      "Epoch 22, time  0:00:03 sec, CIFAR-10 Batch 5:  Cost: 0.8712, Acc: 67.5%\n",
      "Epoch 23, time  0:00:03 sec, CIFAR-10 Batch 1:  Cost: 0.8287, Acc: 70.0%\n",
      "Epoch 23, time  0:00:03 sec, CIFAR-10 Batch 2:  Cost: 0.7055, Acc: 77.5%\n",
      "Epoch 23, time  0:00:03 sec, CIFAR-10 Batch 3:  Cost: 0.7715, Acc: 72.5%\n",
      "Epoch 23, time  0:00:03 sec, CIFAR-10 Batch 4:  Cost: 0.6269, Acc: 77.5%\n",
      "Epoch 23, time  0:00:03 sec, CIFAR-10 Batch 5:  Cost: 0.8095, Acc: 72.5%\n",
      "Epoch 24, time  0:00:03 sec, CIFAR-10 Batch 1:  Cost: 0.8743, Acc: 75.0%\n",
      "Epoch 24, time  0:00:03 sec, CIFAR-10 Batch 2:  Cost: 0.4719, Acc: 85.0%\n",
      "Epoch 24, time  0:00:03 sec, CIFAR-10 Batch 3:  Cost: 0.8705, Acc: 70.0%\n",
      "Epoch 24, time  0:00:03 sec, CIFAR-10 Batch 4:  Cost: 0.6921, Acc: 77.5%\n",
      "Epoch 24, time  0:00:03 sec, CIFAR-10 Batch 5:  Cost: 0.7112, Acc: 72.5%\n",
      "Epoch 25, time  0:00:03 sec, CIFAR-10 Batch 1:  Cost: 0.7596, Acc: 75.0%\n",
      "Epoch 25, time  0:00:03 sec, CIFAR-10 Batch 2:  Cost: 0.7909, Acc: 72.5%\n",
      "Epoch 25, time  0:00:03 sec, CIFAR-10 Batch 3:  Cost: 0.912, Acc: 65.0%\n",
      "Epoch 25, time  0:00:03 sec, CIFAR-10 Batch 4:  Cost: 0.8829, Acc: 75.0%\n",
      "Epoch 25, time  0:00:03 sec, CIFAR-10 Batch 5:  Cost: 0.8412, Acc: 65.0%\n",
      "Epoch 26, time  0:00:03 sec, CIFAR-10 Batch 1:  Cost: 0.5737, Acc: 87.5%\n",
      "Epoch 26, time  0:00:03 sec, CIFAR-10 Batch 2:  Cost: 0.7289, Acc: 82.5%\n",
      "Epoch 26, time  0:00:03 sec, CIFAR-10 Batch 3:  Cost: 0.7462, Acc: 80.0%\n",
      "Epoch 26, time  0:00:03 sec, CIFAR-10 Batch 4:  Cost: 0.598, Acc: 87.5%\n",
      "Epoch 26, time  0:00:03 sec, CIFAR-10 Batch 5:  Cost: 0.5706, Acc: 85.0%\n",
      "Epoch 27, time  0:00:03 sec, CIFAR-10 Batch 1:  Cost: 0.5697, Acc: 82.5%\n",
      "Epoch 27, time  0:00:03 sec, CIFAR-10 Batch 2:  Cost: 0.495, Acc: 87.5%\n",
      "Epoch 27, time  0:00:03 sec, CIFAR-10 Batch 3:  Cost: 0.5756, Acc: 80.0%\n",
      "Epoch 27, time  0:00:03 sec, CIFAR-10 Batch 4:  Cost: 0.7049, Acc: 70.0%\n",
      "Epoch 27, time  0:00:03 sec, CIFAR-10 Batch 5:  Cost: 0.5096, Acc: 92.5%\n",
      "Epoch 28, time  0:00:03 sec, CIFAR-10 Batch 1:  Cost: 0.6711, Acc: 70.0%\n",
      "Epoch 28, time  0:00:03 sec, CIFAR-10 Batch 2:  Cost: 0.7232, Acc: 75.0%\n",
      "Epoch 28, time  0:00:03 sec, CIFAR-10 Batch 3:  Cost: 0.7327, Acc: 65.0%\n",
      "Epoch 28, time  0:00:03 sec, CIFAR-10 Batch 4:  Cost: 00.81, Acc: 72.5%\n",
      "Epoch 28, time  0:00:03 sec, CIFAR-10 Batch 5:  Cost: 0.7305, Acc: 75.0%\n",
      "Epoch 29, time  0:00:03 sec, CIFAR-10 Batch 1:  Cost: 0.7402, Acc: 72.5%\n",
      "Epoch 29, time  0:00:03 sec, CIFAR-10 Batch 2:  Cost: 0.6581, Acc: 80.0%\n",
      "Epoch 29, time  0:00:03 sec, CIFAR-10 Batch 3:  Cost: 0.8465, Acc: 65.0%\n",
      "Epoch 29, time  0:00:03 sec, CIFAR-10 Batch 4:  Cost: 0.8483, Acc: 62.5%\n",
      "Epoch 29, time  0:00:03 sec, CIFAR-10 Batch 5:  Cost: 0.741, Acc: 77.5%\n",
      "Epoch 30, time  0:00:03 sec, CIFAR-10 Batch 1:  Cost: 0.6261, Acc: 80.0%\n",
      "Epoch 30, time  0:00:03 sec, CIFAR-10 Batch 2:  Cost: 0.7893, Acc: 67.5%\n",
      "Epoch 30, time  0:00:03 sec, CIFAR-10 Batch 3:  Cost: 0.6985, Acc: 70.0%\n",
      "Epoch 30, time  0:00:03 sec, CIFAR-10 Batch 4:  Cost: 0.6242, Acc: 85.0%\n",
      "Epoch 30, time  0:00:03 sec, CIFAR-10 Batch 5:  Cost: 0.7517, Acc: 72.5%\n",
      "Time usage: 0:07:48\n"
     ]
    }
   ],
   "source": [
    "save_model_path = './training_progress/saved_progress'\n",
    "epochs = 30\n",
    "batch_size = 64*4\n",
    "keep_probability = 0.5#1.0\n",
    "n_batches = 5\n",
    "shuffle_data = True\n",
    "train_neural_network_full(optimizer, cost, accuracy, x, y, keep_prob, keep_probability, n_batches, batch_size, shuffle_data, epochs, load_data = True, file_path = save_model_path)"
   ]
  },
  {
   "cell_type": "markdown",
   "metadata": {
    "deletable": true,
    "editable": true
   },
   "source": [
    "Check result of second round of training..."
   ]
  },
  {
   "cell_type": "code",
   "execution_count": 24,
   "metadata": {
    "collapsed": false,
    "deletable": true,
    "editable": true
   },
   "outputs": [
    {
     "name": "stdout",
     "output_type": "stream",
     "text": [
      "INFO:tensorflow:Restoring parameters from ./training_progress/saved_progress\n",
      "Testing Accuracy: 0.71171875\n",
      "\n"
     ]
    },
    {
     "data": {
      "image/png": "[encoded data removed]",
      "text/plain": [
       "<matplotlib.figure.Figure at 0x2b11923c5c0>"
      ]
     },
     "metadata": {
      "image/png": {
       "height": 319,
       "width": 355
      }
     },
     "output_type": "display_data"
    }
   ],
   "source": [
    "\"\"\"\n",
    "DON'T MODIFY ANYTHING IN THIS CELL\n",
    "\"\"\"\n",
    "%matplotlib inline\n",
    "%config InlineBackend.figure_format = 'retina'\n",
    "\n",
    "import tensorflow as tf\n",
    "import pickle\n",
    "import helper\n",
    "import random\n",
    "\n",
    "# Set batch size if not already set\n",
    "try:\n",
    "    if batch_size:\n",
    "        pass\n",
    "except NameError:\n",
    "    batch_size = 64\n",
    "\n",
    "save_model_path = './training_progress/saved_progress'\n",
    "n_samples = 4\n",
    "top_n_predictions = 3\n",
    "\n",
    "def test_model():\n",
    "    \"\"\"\n",
    "    Test the saved model against the test dataset\n",
    "    \"\"\"\n",
    "\n",
    "    test_features, test_labels = pickle.load(open('.\\cifar-10-batches-py\\preprocess_training.p', mode='rb'))\n",
    "    loaded_graph = tf.Graph()\n",
    "\n",
    "    with tf.Session(graph=loaded_graph) as sess:\n",
    "        # Load model\n",
    "        loader = tf.train.import_meta_graph(save_model_path + '.meta')\n",
    "        loader.restore(sess, save_model_path)\n",
    "\n",
    "        # Get Tensors from loaded model\n",
    "        loaded_x = loaded_graph.get_tensor_by_name('x:0')\n",
    "        loaded_y = loaded_graph.get_tensor_by_name('y:0')\n",
    "        loaded_keep_prob = loaded_graph.get_tensor_by_name('keep_prob:0')\n",
    "        loaded_logits = loaded_graph.get_tensor_by_name('logits:0')\n",
    "        loaded_acc = loaded_graph.get_tensor_by_name('accuracy:0')\n",
    "        \n",
    "        # Get accuracy in batches for memory limitations\n",
    "        test_batch_acc_total = 0\n",
    "        test_batch_count = 0\n",
    "        \n",
    "        for train_feature_batch, train_label_batch in helper.batch_features_labels(test_features, test_labels, batch_size):\n",
    "            test_batch_acc_total += sess.run(\n",
    "                loaded_acc,\n",
    "                feed_dict={loaded_x: train_feature_batch, loaded_y: train_label_batch, loaded_keep_prob: 1.0})\n",
    "            test_batch_count += 1\n",
    "\n",
    "        print('Testing Accuracy: {}\\n'.format(test_batch_acc_total/test_batch_count))\n",
    "\n",
    "        # Print Random Samples\n",
    "        random_test_features, random_test_labels = tuple(zip(*random.sample(list(zip(test_features, test_labels)), n_samples)))\n",
    "        random_test_predictions = sess.run(\n",
    "            tf.nn.top_k(tf.nn.softmax(loaded_logits), top_n_predictions),\n",
    "            feed_dict={loaded_x: random_test_features, loaded_y: random_test_labels, loaded_keep_prob: 1.0})\n",
    "        helper.display_image_predictions(random_test_features, random_test_labels, random_test_predictions)\n",
    "\n",
    "\n",
    "test_model()"
   ]
  },
  {
   "cell_type": "markdown",
   "metadata": {
    "deletable": true,
    "editable": true
   },
   "source": [
    "## Why 50-80% Accuracy?\n",
    "You might be wondering why you can't get an accuracy any higher. First things first, 50% isn't bad for a simple CNN.  Pure guessing would get you 10% accuracy. However, you might notice people are getting scores [well above 80%](http://rodrigob.github.io/are_we_there_yet/build/classification_datasets_results.html#43494641522d3130).  That's because we haven't taught you all there is to know about neural networks. We still need to cover a few more techniques.\n",
    "## Submitting This Project\n",
    "When submitting this project, make sure to run all the cells before saving the notebook.  Save the notebook file as \"dlnd_image_classification.ipynb\" and save it as a HTML file under \"File\" -> \"Download as\".  Include the \"helper.py\" and \"problem_unittests.py\" files in your submission."
   ]
  }
 ],
 "metadata": {
  "kernelspec": {
   "display_name": "Python 3",
   "language": "python",
   "name": "python3"
  },
  "language_info": {
   "codemirror_mode": {
    "name": "ipython",
    "version": 3
   },
   "file_extension": ".py",
   "mimetype": "text/x-python",
   "name": "python",
   "nbconvert_exporter": "python",
   "pygments_lexer": "ipython3",
   "version": "3.5.3"
  }
 },
 "nbformat": 4,
 "nbformat_minor": 0
}
